{
 "cells": [
  {
   "cell_type": "markdown",
   "metadata": {},
   "source": [
    "## Decision tree of fruits \n",
    "It's a decision tree model that shows what question ask to find each fruits <br>\n",
    "Method **print_tree** print qestions and fruits that mach to those questions eg: <br> <br>\n",
    "\n",
    "###################<br>\n",
    "<pre>\n",
    "Is size >= 2?\n",
    "--> True:\n",
    "  Predict {'Apple': 2}\n",
    "--> False: \n",
    "  Predict {'Grape': 1}\n",
    "</pre>\n",
    "####################<br>\n",
    "\n",
    "<br>\n",
    "Below data is predicted with 100% of accuracy for each fruit. And model gives what question ask to distinguish each fruit"
   ]
  },
  {
   "cell_type": "code",
   "execution_count": 20,
   "metadata": {},
   "outputs": [],
   "source": [
    "# Traingin data\n",
    "\n",
    "training_data = [\n",
    "    ['Green',   10, \"Round\", 'Mango'], \n",
    "    ['Yellow',  12, \"Round\", 'Mango'],\n",
    "    ['Red',      7, \"Round\", 'Apple'],\n",
    "    ['Violet', 0.6, \"Round\", 'Grape'],\n",
    "    ['Green',  0.8, \"Round\", 'Grape'],\n",
    "    ['Yellow',   5, \"Round\", 'Lemon'],\n",
    "    ['Red',      2, \"Round\", 'Cherry'],\n",
    "    ['Yellow',  17,  \"Long\", 'Banana'],\n",
    "]\n",
    "\n",
    "header = [\"color\", \"size\", \"shape\", \"label\"]\n"
   ]
  },
  {
   "cell_type": "code",
   "execution_count": 2,
   "metadata": {},
   "outputs": [],
   "source": [
    "def unique_values(rows, col):\n",
    "    return set([row[col] for row in rows])\n"
   ]
  },
  {
   "cell_type": "code",
   "execution_count": 3,
   "metadata": {},
   "outputs": [],
   "source": [
    "def class_counts(rows):\n",
    "    counts = {}\n",
    "    for row in rows:\n",
    "        label = row[-1]\n",
    "        if label not in counts:\n",
    "            counts[label] = 0\n",
    "        counts[label] += 1\n",
    "    return counts"
   ]
  },
  {
   "cell_type": "code",
   "execution_count": 4,
   "metadata": {},
   "outputs": [],
   "source": [
    "def is_numeric(value):\n",
    "    return isinstance(value, int) or isinstance(value, float)"
   ]
  },
  {
   "cell_type": "code",
   "execution_count": 5,
   "metadata": {},
   "outputs": [],
   "source": [
    "class Question:\n",
    "    def __init__(self, column, value):\n",
    "        self.column = column\n",
    "        self.value = value\n",
    "    \n",
    "    def match(self, example):\n",
    "        val = example[self.column]\n",
    "        if is_numeric(val):\n",
    "            return val >= self.value\n",
    "        else:\n",
    "            return val == self.value\n",
    "        \n",
    "    def __repr__(self):\n",
    "        condition = \"==\"\n",
    "        if is_numeric(self.value):\n",
    "            condition = \">=\"\n",
    "        return \"Is %s %s %s?\" % (header[self.column], condition, str(self.value))\n",
    "    \n"
   ]
  },
  {
   "cell_type": "code",
   "execution_count": 6,
   "metadata": {},
   "outputs": [],
   "source": [
    "def partition(rows, question):\n",
    "    true_rows, false_rows = [], []\n",
    "    for row in rows:\n",
    "        if question.match(row):\n",
    "            true_rows.append(row)\n",
    "        else:\n",
    "            false_rows.append(row)\n",
    "    return true_rows, false_rows\n"
   ]
  },
  {
   "cell_type": "code",
   "execution_count": 7,
   "metadata": {},
   "outputs": [],
   "source": [
    "\n",
    "def gini(rows):\n",
    "    counts = class_counts(rows)\n",
    "    impurity = 1\n",
    "    for lbl in counts:\n",
    "        prob_of_lbl = counts[lbl] / float(len(rows))\n",
    "        impurity -= prob_of_lbl**2\n",
    "    return impurity\n"
   ]
  },
  {
   "cell_type": "code",
   "execution_count": 8,
   "metadata": {},
   "outputs": [],
   "source": [
    "\n",
    "def info_gain(left, right, current_uncertainty):\n",
    "    p = float(len(left)) / (len(left) + len(right))\n",
    "    return current_uncertainty - p *gini(left) - (1-p) * gini(right)"
   ]
  },
  {
   "cell_type": "code",
   "execution_count": 9,
   "metadata": {},
   "outputs": [],
   "source": [
    "def find_best_split(rows):\n",
    "    best_gain = 0 # keep the best information gain\n",
    "    best_question = None\n",
    "    current_uncertainty = gini(rows)\n",
    "    n_features = len(rows[0]) - 1\n",
    "    \n",
    "    for col in range(n_features):\n",
    "        values = set([row[col] for row in rows])\n",
    "        \n",
    "        for val in values:\n",
    "            question = Question(col, val)\n",
    "            true_rows, false_rows = partition(rows, question)\n",
    "            if len(true_rows) == 0 or len(false_rows) == 0:\n",
    "                continue\n",
    "                \n",
    "            gain = info_gain(true_rows, false_rows, current_uncertainty)\n",
    "            if gain >= best_gain:\n",
    "                best_gain, best_question = gain, question\n",
    "                \n",
    "    return best_gain, best_question"
   ]
  },
  {
   "cell_type": "code",
   "execution_count": 10,
   "metadata": {},
   "outputs": [],
   "source": [
    "class Leaf:\n",
    "    def __init__(self, rows):\n",
    "        self.predictions = class_counts(rows)"
   ]
  },
  {
   "cell_type": "code",
   "execution_count": 11,
   "metadata": {},
   "outputs": [],
   "source": [
    "class Decision_Node:\n",
    "    def __init__(self, question, true_branch, false_branch):\n",
    "        self.question = question\n",
    "        self.true_branch = true_branch\n",
    "        self.false_branch = false_branch\n",
    "        "
   ]
  },
  {
   "cell_type": "code",
   "execution_count": 12,
   "metadata": {},
   "outputs": [],
   "source": [
    "def build_tree(rows):\n",
    "    gain, question = find_best_split(rows)\n",
    "    if gain == 0:\n",
    "        return Leaf(rows)\n",
    "    \n",
    "    true_rows, false_rows = partition(rows, question)\n",
    "    true_branch = build_tree(true_rows)\n",
    "    false_branch = build_tree(false_rows)\n",
    "    \n",
    "    return Decision_Node(question, true_branch, false_branch)"
   ]
  },
  {
   "cell_type": "code",
   "execution_count": 13,
   "metadata": {},
   "outputs": [],
   "source": [
    "def print_tree(node, spacing=\"\"):\n",
    "    if isinstance(node, Leaf):\n",
    "        print(spacing + \"Predict\", node.predictions)\n",
    "        return\n",
    "    \n",
    "    print(spacing + str(node.question))\n",
    "    \n",
    "    print(spacing + \"--> True:\")\n",
    "    print_tree(node.true_branch, spacing + \"  \")\n",
    "    \n",
    "    print(spacing + \"--> False: \")\n",
    "    print_tree(node.false_branch, spacing + \"  \")\n",
    "\n",
    "    "
   ]
  },
  {
   "cell_type": "code",
   "execution_count": 14,
   "metadata": {},
   "outputs": [],
   "source": [
    "def classify(row, node):\n",
    "    if isinstance(node, Leaf):\n",
    "        return node.predictions\n",
    "    \n",
    "    if node.question.match(row):\n",
    "        return classify(row, node.true_branch)\n",
    "    else:\n",
    "        return classify(row, node.false_branch)"
   ]
  },
  {
   "cell_type": "code",
   "execution_count": 15,
   "metadata": {},
   "outputs": [],
   "source": [
    "def print_leaf(counts):\n",
    "    total = sum(counts.values()) * 1.0\n",
    "    probs = {}\n",
    "    for lbl in counts.keys():\n",
    "        probs[lbl] = str(int(counts[lbl] / total * 100)) + \"%\"\n",
    "    return probs"
   ]
  },
  {
   "cell_type": "code",
   "execution_count": 16,
   "metadata": {},
   "outputs": [],
   "source": [
    "###########"
   ]
  },
  {
   "cell_type": "code",
   "execution_count": 17,
   "metadata": {},
   "outputs": [
    {
     "name": "stdout",
     "output_type": "stream",
     "text": [
      "Is size >= 2?\n",
      "--> True:\n",
      "  Is size >= 10?\n",
      "  --> True:\n",
      "    Is shape == Round?\n",
      "    --> True:\n",
      "      Predict {'Mango': 2}\n",
      "    --> False: \n",
      "      Predict {'Banana': 1}\n",
      "  --> False: \n",
      "    Is size >= 5?\n",
      "    --> True:\n",
      "      Is size >= 7?\n",
      "      --> True:\n",
      "        Predict {'Apple': 1}\n",
      "      --> False: \n",
      "        Predict {'Lemon': 1}\n",
      "    --> False: \n",
      "      Predict {'Cherry': 1}\n",
      "--> False: \n",
      "  Predict {'Grape': 2}\n",
      "Actual: Mango. Predicted: {'Mango': '100%'}\n",
      "Actual: Apple. Predicted: {'Apple': '100%'}\n",
      "Actual: Grape. Predicted: {'Grape': '100%'}\n",
      "Actual: Grape. Predicted: {'Grape': '100%'}\n",
      "Actual: Lemon. Predicted: {'Lemon': '100%'}\n",
      "Actual: Cherry. Predicted: {'Cherry': '100%'}\n",
      "Actual: Banana. Predicted: {'Banana': '100%'}\n"
     ]
    }
   ],
   "source": [
    "testing_data = [\n",
    "    ['Green',   11, \"Round\", 'Mango'], \n",
    "    ['Red',      8, \"Round\", 'Apple'],\n",
    "    ['Violet', 0.6, \"Round\", 'Grape'],\n",
    "    ['Green',  0.8, \"Round\", 'Grape'],\n",
    "    ['Yellow',   5, \"Round\", 'Lemon'],\n",
    "    ['Red',      2, \"Round\", 'Cherry'],\n",
    "    ['Yellow',  17.5,  \"Long\", 'Banana'],\n",
    "]\n",
    "\n",
    "my_tree = build_tree(training_data)\n",
    "print_tree(my_tree)\n",
    "\n",
    "for row in testing_data:\n",
    "    print(\"Actual: %s. Predicted: %s\" % (row[-1], print_leaf(classify(row, my_tree))))\n",
    "    "
   ]
  },
  {
   "cell_type": "markdown",
   "metadata": {},
   "source": [
    "## Summary\n",
    "As you can see in the result each fruit has 100% of accuracy. Also model gave us the best question we can ask to quickly distinguish each fruit based on its feature."
   ]
  },
  {
   "cell_type": "code",
   "execution_count": null,
   "metadata": {},
   "outputs": [],
   "source": []
  }
 ],
 "metadata": {
  "kernelspec": {
   "display_name": "Python 3",
   "language": "python",
   "name": "python3"
  },
  "language_info": {
   "codemirror_mode": {
    "name": "ipython",
    "version": 3
   },
   "file_extension": ".py",
   "mimetype": "text/x-python",
   "name": "python",
   "nbconvert_exporter": "python",
   "pygments_lexer": "ipython3",
   "version": "3.8.2"
  }
 },
 "nbformat": 4,
 "nbformat_minor": 4
}
